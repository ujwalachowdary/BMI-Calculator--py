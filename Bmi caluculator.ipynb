{
 "cells": [
  {
   "cell_type": "code",
   "execution_count": 9,
   "id": "39065edf-516e-4eb4-91de-8650ee6fb672",
   "metadata": {},
   "outputs": [
    {
     "name": "stdout",
     "output_type": "stream",
     "text": [
      "enter your name ujwala\n",
      "enter your weight in pounds : 170\n",
      "enter your height in inches : 69\n"
     ]
    },
    {
     "name": "stdout",
     "output_type": "stream",
     "text": [
      "25.101869355177485\n",
      "ujwala,Overweight\n"
     ]
    }
   ],
   "source": [
    "name = input(\"enter your name\")\n",
    "weight = int (input(\"enter your weight in pounds :\"))\n",
    "height =int( input(\"enter your height in inches :\"))\n",
    "bmi = (weight *703)/(height* height)\n",
    "print(bmi)\n",
    "if bmi >0 :\n",
    "    if(bmi < 16):\n",
    "        print(name + \",Severe Thinness\")\n",
    "    elif(16 <= bmi <= 17):\n",
    "        print(name +\",Moderate Thinness\")\n",
    "    elif(17 <= bmi <= 18.5 ):\n",
    "        print(name +\",Mild Thinness\")\n",
    "    elif(18.5 <= bmi <= 25 ):\n",
    "        print(name +\",Normal\")\n",
    "    elif(25 <= bmi <= 30 ):\n",
    "        print(name +\",Overweight\")  \n",
    "    elif(30<= bmi <= 35 ):\n",
    "        print(name +\",Obese Class I\")\n",
    "    elif(35 <= bmi <= 40 ):\n",
    "        print(name +\",Obese Class II\")    \n",
    "    else :\n",
    "        print(name +\",overweight ,needs to take care of ur self \")\n",
    "    \n",
    "else :\n",
    "    print(name +\",give correct input values\")\n"
   ]
  },
  {
   "cell_type": "code",
   "execution_count": null,
   "id": "aaa11a84-18ee-4446-a992-33169cdb4249",
   "metadata": {},
   "outputs": [],
   "source": []
  },
  {
   "cell_type": "code",
   "execution_count": null,
   "id": "65006788-8ebf-4339-9a4e-53b4f9793d1c",
   "metadata": {},
   "outputs": [],
   "source": []
  },
  {
   "cell_type": "code",
   "execution_count": null,
   "id": "eb349f86-a1d9-4f8b-b50f-c79180ad95aa",
   "metadata": {},
   "outputs": [],
   "source": [
    "Severe Thinness\t< 16\n",
    "Moderate Thinness\t16 - 17\n",
    "Mild Thinness\t17 - 18.5\n",
    "Normal\t18.5 - 25\n",
    "Overweight\t25 - 30\n",
    "Obese Class I\t30 - 35\n",
    "Obese Class II\t35 - 40\n",
    "Obese Class III\t> 40\n"
   ]
  },
  {
   "cell_type": "code",
   "execution_count": null,
   "id": "d1b93a71-7805-46af-8ce3-295484697066",
   "metadata": {},
   "outputs": [],
   "source": []
  },
  {
   "cell_type": "code",
   "execution_count": null,
   "id": "9afe2dda-d99f-4242-97cd-2c1491e476f9",
   "metadata": {},
   "outputs": [],
   "source": []
  },
  {
   "cell_type": "code",
   "execution_count": null,
   "id": "30c17524-c457-4a12-9ec6-14e94e3ba080",
   "metadata": {},
   "outputs": [],
   "source": []
  }
 ],
 "metadata": {
  "kernelspec": {
   "display_name": "Python [conda env:base] *",
   "language": "python",
   "name": "conda-base-py"
  },
  "language_info": {
   "codemirror_mode": {
    "name": "ipython",
    "version": 3
   },
   "file_extension": ".py",
   "mimetype": "text/x-python",
   "name": "python",
   "nbconvert_exporter": "python",
   "pygments_lexer": "ipython3",
   "version": "3.13.5"
  }
 },
 "nbformat": 4,
 "nbformat_minor": 5
}
